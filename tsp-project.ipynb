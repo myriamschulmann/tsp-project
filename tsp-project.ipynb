{
 "cells": [
  {
   "cell_type": "markdown",
   "id": "f85b2ea4",
   "metadata": {},
   "source": [
    "# 🧭 Projet - Problème du Voyageur de Commerce (TSP)\n",
    "\n",
    "---\n",
    "\n",
    "Ce projet explore des heuristiques pour résoudre le **Problème du Voyageur de Commerce (Travelling Salesman Problem)**.  \n",
    "Nous allons implémenter et comparer différentes approches pour trouver un circuit de coût minimal visitant chaque ville une seule fois.\n",
    "\n",
    "---\n",
    "\n",
    "👨‍💻 Myriam HADDOUK & Myriam SCHULMANN  \n",
    "🎓 Projet Mathématiques-informatique  \n",
    "📅 Juin 2025  \n"
   ]
  },
  {
   "cell_type": "markdown",
   "id": "037ae26d",
   "metadata": {},
   "source": "**Imports**"
  },
  {
   "cell_type": "code",
   "id": "da9459f8",
   "metadata": {
    "vscode": {
     "languageId": "plaintext"
    },
    "ExecuteTime": {
     "end_time": "2025-06-18T23:47:30.438814Z",
     "start_time": "2025-06-18T23:47:29.419956Z"
    }
   },
   "source": [
    "import numpy as np\n",
    "import matplotlib.pyplot as plt\n",
    "import random\n",
    "import math"
   ],
   "outputs": [],
   "execution_count": 3
  },
  {
   "metadata": {},
   "cell_type": "markdown",
   "source": "### **City Generation**",
   "id": "9365968504bf4a38"
  },
  {
   "metadata": {
    "ExecuteTime": {
     "end_time": "2025-06-19T00:06:39.166068Z",
     "start_time": "2025-06-19T00:06:39.161819Z"
    }
   },
   "cell_type": "code",
   "source": [
    "def generate_cities(n: int, seed: int = None) -> np.ndarray:\n",
    "    \"\"\"\n",
    "    Generate a set of cities with random (x, y) coordinates in a 1000x1000 grid.\n",
    "\n",
    "    Parameters:\n",
    "    - n (int): Number of cities to generate.\n",
    "    - seed (int, optional): Random seed for reproducibility.\n",
    "\n",
    "    Returns:\n",
    "    - np.ndarray: Array of shape (n, 2) with x and y coordinates of each city.\n",
    "    \"\"\"\n",
    "    if seed is not None:\n",
    "        random.seed(seed)\n",
    "        np.random.seed(seed)\n",
    "\n",
    "    return np.random.randint(0, 1000, size=(n, 2))"
   ],
   "id": "8185e24679cf4fe3",
   "outputs": [],
   "execution_count": 7
  },
  {
   "metadata": {
    "ExecuteTime": {
     "end_time": "2025-06-19T00:10:54.871704Z",
     "start_time": "2025-06-19T00:10:54.839756Z"
    }
   },
   "cell_type": "code",
   "source": [
    "cities = generate_cities(20, seed=42)\n",
    "print(cities)"
   ],
   "id": "fb903a8b93ceda37",
   "outputs": [
    {
     "name": "stdout",
     "output_type": "stream",
     "text": [
      "[[102 435]\n",
      " [860 270]\n",
      " [106  71]\n",
      " [700  20]\n",
      " [614 121]\n",
      " [466 214]\n",
      " [330 458]\n",
      " [ 87 372]\n",
      " [ 99 871]\n",
      " [663 130]\n",
      " [661 308]\n",
      " [769 343]\n",
      " [491 413]\n",
      " [805 385]\n",
      " [191 955]\n",
      " [276 160]\n",
      " [459 313]\n",
      " [ 21 252]\n",
      " [747 856]\n",
      " [560 474]]\n"
     ]
    }
   ],
   "execution_count": 8
  }
 ],
 "metadata": {
  "language_info": {
   "name": "python"
  }
 },
 "nbformat": 4,
 "nbformat_minor": 5
}
