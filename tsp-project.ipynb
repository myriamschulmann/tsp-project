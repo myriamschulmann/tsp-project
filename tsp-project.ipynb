{
 "cells": [
  {
   "metadata": {},
   "cell_type": "markdown",
   "source": [
    "# 🧭 Projet - Problème du Voyageur de Commerce (TSP)\n",
    "\n",
    "---\n",
    "\n",
    "Ce projet explore des heuristiques pour résoudre le **Problème du Voyageur de Commerce (Travelling Salesman Problem)**.\n",
    "Nous allons implémenter et comparer différentes approches pour trouver un circuit de coût minimal visitant chaque ville une seule fois.\n",
    "\n",
    "---\n",
    "\n",
    "👨‍💻 Myriam HADDOUK & Myriam SCHULMANN\n",
    "🎓 Projet Mathématiques-informatique\n",
    "📅 Juin 2025\n"
   ],
   "id": "9c5fa89818fc7c94"
  },
  {
   "metadata": {},
   "cell_type": "markdown",
   "source": "**Imports**",
   "id": "e96b7575a5d4e3f6"
  },
  {
   "metadata": {},
   "cell_type": "code",
   "outputs": [],
   "execution_count": null,
   "source": [
    "import numpy as np\n",
    "import matplotlib.pyplot as plt\n",
    "import random\n",
    "import math"
   ],
   "id": "798e4d1b9ecb3863"
  },
  {
   "metadata": {},
   "cell_type": "markdown",
   "source": "### **City Generation**",
   "id": "bc32f56b825cd9c3"
  },
  {
   "metadata": {},
   "cell_type": "code",
   "outputs": [],
   "execution_count": null,
   "source": [
    "def generate_cities(n: int, seed: int = None) -> np.ndarray:\n",
    "    \"\"\"\n",
    "    Generate a set of cities with random (x, y) coordinates in a 1000x1000 grid.\n",
    "\n",
    "    Parameters:\n",
    "    - n (int): Number of cities to generate.\n",
    "    - seed (int, optional): Random seed for reproducibility.\n",
    "\n",
    "    Returns:\n",
    "    - np.ndarray: Array of shape (n, 2) with x and y coordinates of each city.\n",
    "    \"\"\"\n",
    "    if seed is not None:\n",
    "        random.seed(seed)\n",
    "        np.random.seed(seed)\n",
    "\n",
    "    return np.random.randint(0, 1000, size=(n, 2))"
   ],
   "id": "3d356912211bec56"
  },
  {
   "metadata": {},
   "cell_type": "code",
   "outputs": [],
   "execution_count": null,
   "source": [
    "cities = generate_cities(20, seed=42)\n",
    "print(cities)"
   ],
   "id": "dd3bad026d998178"
  },
  {
   "metadata": {},
   "cell_type": "markdown",
   "source": "**Distance Matrix**",
   "id": "6ac702a6422bfd59"
  },
  {
   "metadata": {},
   "cell_type": "code",
   "outputs": [],
   "execution_count": null,
   "source": [
    "def compute_distance_matrix(cities: np.ndarray) -> np.ndarray:\n",
    "    \"\"\"\n",
    "    Compute the pairwise Euclidean distance matrix between all cities.\n",
    "\n",
    "    Parameters:\n",
    "    - cities (np.ndarray): Array of shape (n, 2) with x and y coordinates.\n",
    "\n",
    "    Returns:\n",
    "    - np.ndarray: Array of shape (n, n) with distances between each pair of cities.\n",
    "    \"\"\"\n",
    "    n = cities.shape[0]\n",
    "    matrix = np.zeros((n, n))\n",
    "\n",
    "    for i in range(n):\n",
    "        for j in range(n):\n",
    "            if i != j:\n",
    "                dx = cities[i][0] - cities[j][0]\n",
    "                dy = cities[i][1] - cities[j][1]\n",
    "                matrix[i][j] = math.hypot(dx, dy)\n",
    "\n",
    "    return matrix"
   ],
   "id": "1b431b61586a12cf"
  },
  {
   "metadata": {},
   "cell_type": "code",
   "outputs": [],
   "execution_count": null,
   "source": [
    "distance_matrix = compute_distance_matrix(cities)\n",
    "print(distance_matrix)"
   ],
   "id": "26fa0701ecb106eb"
  },
  {
   "metadata": {},
   "cell_type": "markdown",
   "source": "### **Heuristics**",
   "id": "1780113c8f2ba6e7"
  },
  {
   "metadata": {},
   "cell_type": "markdown",
   "source": "**Nearest Neighbor**b",
   "id": "4ea5e953d36ce12f"
  },
  {
   "metadata": {
    "ExecuteTime": {
     "end_time": "2025-06-19T20:46:42.705357Z",
     "start_time": "2025-06-19T20:46:42.687062Z"
    }
   },
   "cell_type": "code",
   "source": [
    "def nearest_neighbor_path(distance_matrix: np.ndarray, start: int = 0) -> list:\n",
    "    \"\"\"\n",
    "    Construct a TSP path using the nearest neighbor heuristic.\n",
    "\n",
    "    Parameters:\n",
    "    - distance_matrix (np.ndarray): Pairwise distance matrix.\n",
    "    - start (int): Index of the starting city.\n",
    "\n",
    "    Returns:\n",
    "    - list: Ordered list of city indices representing the path.\n",
    "    \"\"\"\n",
    "    n = distance_matrix.shape[0]\n",
    "    visited = [False] * n\n",
    "    path = [start]\n",
    "    visited[start] = True\n",
    "\n",
    "    current = start\n",
    "    for _ in range(n - 1):\n",
    "        next_city = min(\n",
    "            (i for i in range(n) if not visited[i]),\n",
    "            key=lambda i: distance_matrix[current][i]\n",
    "        )\n",
    "        path.append(next_city)\n",
    "        visited[next_city] = True\n",
    "        current = next_city\n",
    "\n",
    "    return path"
   ],
   "id": "7cbc7f2a51b49734",
   "outputs": [],
   "execution_count": 16
  },
  {
   "metadata": {
    "ExecuteTime": {
     "end_time": "2025-06-19T20:46:43.294264Z",
     "start_time": "2025-06-19T20:46:43.290080Z"
    }
   },
   "cell_type": "code",
   "source": [
    "path = nearest_neighbor_path(distance_matrix, start=0)\n",
    "print(path)"
   ],
   "id": "4a41018ce8a0ef29",
   "outputs": [
    {
     "name": "stdout",
     "output_type": "stream",
     "text": [
      "[0, 7, 17, 2, 15, 5, 16, 12, 19, 10, 11, 13, 1, 9, 4, 3, 6, 8, 14, 18]\n"
     ]
    }
   ],
   "execution_count": 17
  }
 ],
 "metadata": {
  "language_info": {
   "name": "python"
  }
 },
 "nbformat": 4,
 "nbformat_minor": 5
}
