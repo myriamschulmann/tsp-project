{
 "cells": [
  {
   "metadata": {},
   "cell_type": "markdown",
   "source": [
    "# 🧭 Projet - Problème du Voyageur de Commerce (TSP)\n",
    "\n",
    "---\n",
    "\n",
    "Ce projet explore des heuristiques pour résoudre le **Problème du Voyageur de Commerce (Travelling Salesman Problem)**.\n",
    "Nous allons implémenter et comparer différentes approches pour trouver un circuit de coût minimal visitant chaque ville une seule fois.\n",
    "\n",
    "---\n",
    "\n",
    "👨‍💻 Myriam HADDOUK & Myriam SCHULMANN\n",
    "🎓 Projet Mathématiques-informatique\n",
    "📅 Juin 2025"
   ],
   "id": "99adabbbaffb1135"
  },
  {
   "metadata": {},
   "cell_type": "markdown",
   "source": "**Imports**",
   "id": "fac342422d794d8d"
  },
  {
   "metadata": {
    "ExecuteTime": {
     "end_time": "2025-08-31T19:41:03.568435Z",
     "start_time": "2025-08-31T19:41:02.975037Z"
    }
   },
   "cell_type": "code",
   "source": [
    "import numpy as np\n",
    "import matplotlib.pyplot as plt\n",
    "import random\n",
    "import math"
   ],
   "id": "a25cbecb412ed603",
   "outputs": [],
   "execution_count": 1
  },
  {
   "metadata": {},
   "cell_type": "markdown",
   "source": "### **City Generation**",
   "id": "af18eead3e63fa83"
  },
  {
   "metadata": {
    "ExecuteTime": {
     "end_time": "2025-08-31T19:41:03.590627Z",
     "start_time": "2025-08-31T19:41:03.584203Z"
    }
   },
   "cell_type": "code",
   "source": [
    "def generate_cities(n: int, seed: int = None) -> np.ndarray:\n",
    "    \"\"\"\n",
    "    Generate a set of cities with random (x, y) coordinates in a 1000x1000 grid.\n",
    "\n",
    "    Parameters:\n",
    "    - n (int): Number of cities to generate.\n",
    "    - seed (int, optional): Random seed for reproducibility.\n",
    "\n",
    "    Returns:\n",
    "    - np.ndarray: Array of shape (n, 2) with x and y coordinates of each city.\n",
    "    \"\"\"\n",
    "    if seed is not None:\n",
    "        random.seed(seed)\n",
    "        np.random.seed(seed)\n",
    "\n",
    "    return np.random.randint(0, 1000, size=(n, 2))"
   ],
   "id": "4d220eefa740d481",
   "outputs": [],
   "execution_count": 2
  },
  {
   "metadata": {
    "ExecuteTime": {
     "end_time": "2025-08-31T19:41:03.800449Z",
     "start_time": "2025-08-31T19:41:03.772926Z"
    }
   },
   "cell_type": "code",
   "source": [
    "cities = generate_cities(20, seed=42)\n",
    "print(cities)"
   ],
   "id": "1d0b9920dc5b3b03",
   "outputs": [
    {
     "name": "stdout",
     "output_type": "stream",
     "text": [
      "[[102 435]\n",
      " [860 270]\n",
      " [106  71]\n",
      " [700  20]\n",
      " [614 121]\n",
      " [466 214]\n",
      " [330 458]\n",
      " [ 87 372]\n",
      " [ 99 871]\n",
      " [663 130]\n",
      " [661 308]\n",
      " [769 343]\n",
      " [491 413]\n",
      " [805 385]\n",
      " [191 955]\n",
      " [276 160]\n",
      " [459 313]\n",
      " [ 21 252]\n",
      " [747 856]\n",
      " [560 474]]\n"
     ]
    }
   ],
   "execution_count": 3
  },
  {
   "metadata": {},
   "cell_type": "markdown",
   "source": "**Distance Matrix**",
   "id": "6ffc76b3e55614cf"
  },
  {
   "metadata": {
    "ExecuteTime": {
     "end_time": "2025-08-31T19:41:03.873891Z",
     "start_time": "2025-08-31T19:41:03.867850Z"
    }
   },
   "cell_type": "code",
   "source": [
    "def compute_distance_matrix(cities: np.ndarray) -> np.ndarray:\n",
    "    \"\"\"\n",
    "    Compute the pairwise Euclidean distance matrix between all cities.\n",
    "\n",
    "    Parameters:\n",
    "    - cities (np.ndarray): Array of shape (n, 2) with x and y coordinates.\n",
    "\n",
    "    Returns:\n",
    "    - np.ndarray: Array of shape (n, n) with distances between each pair of cities.\n",
    "    \"\"\"\n",
    "    n = cities.shape[0]\n",
    "    matrix = np.zeros((n, n))\n",
    "\n",
    "    for i in range(n):\n",
    "        for j in range(n):\n",
    "            if i != j:\n",
    "                dx = cities[i][0] - cities[j][0]\n",
    "                dy = cities[i][1] - cities[j][1]\n",
    "                matrix[i][j] = math.hypot(dx, dy)\n",
    "\n",
    "    return matrix"
   ],
   "id": "7ad4547652035c88",
   "outputs": [],
   "execution_count": 4
  },
  {
   "metadata": {
    "ExecuteTime": {
     "end_time": "2025-08-31T19:41:03.912595Z",
     "start_time": "2025-08-31T19:41:03.905060Z"
    }
   },
   "cell_type": "code",
   "source": [
    "distance_matrix = compute_distance_matrix(cities)\n",
    "print(distance_matrix)"
   ],
   "id": "74fb042b68aa40f4",
   "outputs": [
    {
     "name": "stdout",
     "output_type": "stream",
     "text": [
      "[[   0.          775.75060425  364.02197736  727.89353617  600.61635009\n",
      "   425.83682321  229.15715132   64.76109943  436.01032098  638.54991974\n",
      "   573.24514826  673.31493374  389.62161131  704.77585089  527.56137084\n",
      "   325.42433836  377.27046002  200.12496096  770.23762567  459.65748117]\n",
      " [ 775.75060425    0.          779.81856864  296.81644159  287.60563277\n",
      "   397.95979696  562.35575928  779.70058356  969.70201609  241.67953989\n",
      "   202.59565642  116.66190466  395.73981351  127.47548784  957.48942553\n",
      "   594.26929922  403.2988966   839.19306479  596.7956099   362.78919499]\n",
      " [ 364.02197736  779.81856864    0.          596.18537386  510.45469926\n",
      "   387.36158818  447.1520994   301.59907162  800.03062441  560.1160594\n",
      "   603.48487968  716.62612288  514.96504736  766.28780494  888.07713629\n",
      "   191.88798816  427.98714934  199.96499694 1013.46238213  607.06259974]\n",
      " [ 727.89353617  296.81644159  596.18537386    0.          132.65368446\n",
      "   303.96052375  573.36201479  706.87551945 1041.8262811   116.05602096\n",
      "   290.62862901  330.28775333  445.11796189  379.8025803  1064.56845717\n",
      "   446.51539727  379.38107491  717.5409396   837.32012994  475.09577982]\n",
      " [ 600.61635009  287.60563277  510.45469926  132.65368446    0.\n",
      "   174.79416466  440.70965499  583.72082368  909.79393271   49.81967483\n",
      "   192.81597444  270.75634803  316.84854426  325.84812413  935.1390271\n",
      "   340.24256054  246.75696545  607.29729128  746.93640961  357.10642671]\n",
      " [ 425.83682321  397.95979696  387.36158818  303.96052375  174.79416466\n",
      "     0.          279.34208419  410.61539182  752.55431698  214.16115427\n",
      "   216.47401692  329.317476    200.56420418  379.68671296  790.38345124\n",
      "   197.524682     99.24716621  446.61952488  700.80311072  276.47061327]\n",
      " [ 229.15715132  562.35575928  447.1520994   573.36201479  440.70965499\n",
      "   279.34208419    0.          257.76927668  473.21242587  467.41095409\n",
      "   363.40198128  453.81273671  167.17057157  480.57673685  516.07170044\n",
      "   302.8530997   194.07730419  371.37178137  576.44861003  230.55585007]\n",
      " [  64.76109943  779.70058356  301.59907162  706.87551945  583.72082368\n",
      "   410.61539182  257.76927668    0.          499.14426772  624.7719584\n",
      "   577.5569236   682.61629046  406.0751162   718.11767838  592.20351232\n",
      "   284.01584463  376.64970463  136.95254653  818.44731046  483.8729172 ]\n",
      " [ 436.01032098  969.70201609  800.03062441 1041.8262811   909.79393271\n",
      "   752.55431698  473.21242587  499.14426772    0.          931.22338888\n",
      "   795.4954431   853.04396135  602.8498984   857.10676114  124.57929202\n",
      "   732.70048451  664.05120285  623.89502322  648.17358786  608.38310299]\n",
      " [ 638.54991974  241.67953989  560.1160594   116.05602096   49.81967483\n",
      "   214.16115427  467.41095409  624.7719584   931.22338888    0.\n",
      "   178.0112356   237.91805312  331.16914107  291.87154709  950.47830065\n",
      "   388.16104905  274.0529146   653.48909708  730.84334847  359.08912543]\n",
      " [ 573.24514826  202.59565642  603.48487968  290.62862901  192.81597444\n",
      "   216.47401692  363.40198128  577.5569236   795.4954431   178.0112356\n",
      "     0.          113.52973179  199.81241203  163.294213    799.69306612\n",
      "   412.46696837  202.06187171  642.44532841  554.70712993  194.31160542]\n",
      " [ 673.31493374  116.66190466  716.62612288  330.28775333  270.75634803\n",
      "   329.317476    453.81273671  682.61629046  853.04396135  237.91805312\n",
      "   113.52973179    0.          286.67751917   55.31726674  841.80045141\n",
      "   525.86880493  311.44823005  753.51509607  513.4715182   246.66171166]\n",
      " [ 389.62161131  395.73981351  514.96504736  445.11796189  316.84854426\n",
      "   200.56420418  167.17057157  406.0751162   602.8498984   331.16914107\n",
      "   199.81241203  286.67751917    0.          315.24593574  619.48688445\n",
      "   332.0150599   104.99523799  496.81082919  511.64929395   92.09777413]\n",
      " [ 704.77585089  127.47548784  766.28780494  379.8025803   325.84812413\n",
      "   379.68671296  480.57673685  718.11767838  857.10676114  291.87154709\n",
      "   163.294213     55.31726674  315.24593574    0.          837.79233704\n",
      "   574.8617225   353.41194094  795.20123239  474.5576888   260.66453537]\n",
      " [ 527.56137084  957.48942553  888.07713629 1064.56845717  935.1390271\n",
      "   790.38345124  516.07170044  592.20351232  124.57929202  950.47830065\n",
      "   799.69306612  841.80045141  619.48688445  837.79233704    0.\n",
      "   799.53111259  695.69246079  723.26274617  564.74507523  606.23592767]\n",
      " [ 325.42433836  594.26929922  191.88798816  446.51539727  340.24256054\n",
      "   197.524682    302.8530997   284.01584463  732.70048451  388.16104905\n",
      "   412.46696837  525.86880493  332.0150599   574.8617225   799.53111259\n",
      "     0.          238.53301658  271.08854642  840.39098044  423.38162454]\n",
      " [ 377.27046002  403.2988966   427.98714934  379.38107491  246.75696545\n",
      "    99.24716621  194.07730419  376.64970463  664.05120285  274.0529146\n",
      "   202.06187171  311.44823005  104.99523799  353.41194094  695.69246079\n",
      "   238.53301658    0.          442.22731711  614.64868014  190.05788592]\n",
      " [ 200.12496096  839.19306479  199.96499694  717.5409396   607.29729128\n",
      "   446.61952488  371.37178137  136.95254653  623.89502322  653.48909708\n",
      "   642.44532841  753.51509607  496.81082919  795.20123239  723.26274617\n",
      "   271.08854642  442.22731711    0.          944.40033884  582.92795438]\n",
      " [ 770.23762567  596.7956099  1013.46238213  837.32012994  746.93640961\n",
      "   700.80311072  576.44861003  818.44731046  648.17358786  730.84334847\n",
      "   554.70712993  513.4715182   511.64929395  474.5576888   564.74507523\n",
      "   840.39098044  614.64868014  944.40033884    0.          425.31517725]\n",
      " [ 459.65748117  362.78919499  607.06259974  475.09577982  357.10642671\n",
      "   276.47061327  230.55585007  483.8729172   608.38310299  359.08912543\n",
      "   194.31160542  246.66171166   92.09777413  260.66453537  606.23592767\n",
      "   423.38162454  190.05788592  582.92795438  425.31517725    0.        ]]\n"
     ]
    }
   ],
   "execution_count": 5
  },
  {
   "metadata": {},
   "cell_type": "markdown",
   "source": "### **Heuristics**",
   "id": "cbe546e803451c3d"
  },
  {
   "metadata": {},
   "cell_type": "markdown",
   "source": "**Nearest Neighbor**",
   "id": "ccfc88393ae6fdc"
  },
  {
   "metadata": {
    "ExecuteTime": {
     "end_time": "2025-08-31T19:41:03.952594Z",
     "start_time": "2025-08-31T19:41:03.946787Z"
    }
   },
   "cell_type": "code",
   "source": [
    "def nearest_neighbor_tour(distance_matrix: np.ndarray, start: int = 0) -> list:\n",
    "    \"\"\"\n",
    "    Construct a TSP tour using the nearest neighbor heuristic.\n",
    "\n",
    "    Parameters:\n",
    "    - distance_matrix (np.ndarray): Pairwise distance matrix.\n",
    "    - start (int): Index of the starting city.\n",
    "\n",
    "    Returns:\n",
    "    - list: Ordered list of city indices representing the tour.\n",
    "    \"\"\"\n",
    "    n = distance_matrix.shape[0]\n",
    "    visited = [False] * n\n",
    "    tour = [start]\n",
    "    visited[start] = True\n",
    "\n",
    "    current = start\n",
    "    for _ in range(n - 1):\n",
    "        next_city = min(\n",
    "            (i for i in range(n) if not visited[i]),\n",
    "            key=lambda i: distance_matrix[current][i]\n",
    "        )\n",
    "        tour.append(next_city)\n",
    "        visited[next_city] = True\n",
    "        current = next_city\n",
    "\n",
    "    return tour"
   ],
   "id": "b336d55a11331edf",
   "outputs": [],
   "execution_count": 6
  },
  {
   "metadata": {
    "ExecuteTime": {
     "end_time": "2025-08-31T19:41:03.974033Z",
     "start_time": "2025-08-31T19:41:03.969437Z"
    }
   },
   "cell_type": "code",
   "source": [
    "tour = nearest_neighbor_tour(distance_matrix, start=0)\n",
    "print(tour)"
   ],
   "id": "b428be0f92e4212b",
   "outputs": [
    {
     "name": "stdout",
     "output_type": "stream",
     "text": [
      "[0, 7, 17, 2, 15, 5, 16, 12, 19, 10, 11, 13, 1, 9, 4, 3, 6, 8, 14, 18]\n"
     ]
    }
   ],
   "execution_count": 7
  },
  {
   "metadata": {},
   "cell_type": "markdown",
   "source": "**Insertion**",
   "id": "99da3e60ac11179e"
  },
  {
   "metadata": {
    "ExecuteTime": {
     "end_time": "2025-08-31T19:41:04.012372Z",
     "start_time": "2025-08-31T19:41:04.007832Z"
    }
   },
   "cell_type": "code",
   "source": [
    "def insertion_tour(distance_matrix: np.ndarray, start: int = 0) -> list:\n",
    "    \"\"\"\n",
    "    Build a TSP tour using the insertion heuristic.\n",
    "\n",
    "    Parameters:\n",
    "    - distance_matrix (np.ndarray): Pairwise distance matrix.\n",
    "    - start (int): Index of the starting city.\n",
    "\n",
    "    Returns:\n",
    "    - list: Ordered list of city indices representing the tour.\n",
    "    \"\"\"\n",
    "    n = distance_matrix.shape[0]\n",
    "    unvisited = set(range(n))\n",
    "    tour = [start]\n",
    "    unvisited.remove(start)\n",
    "\n",
    "    nearest = min(unvisited, key=lambda i: distance_matrix[start][i])\n",
    "    tour.append(nearest)\n",
    "    unvisited.remove(nearest)\n",
    "\n",
    "    tour.append(start)\n",
    "\n",
    "    while unvisited:\n",
    "        best_city = None\n",
    "        best_position = None\n",
    "        min_increase = float('inf')\n",
    "\n",
    "        for city in unvisited:\n",
    "            for i in range(1, len(tour)):\n",
    "                prev_city = tour[i - 1]\n",
    "                next_city = tour[i]\n",
    "                increase = (\n",
    "                    distance_matrix[prev_city][city] +\n",
    "                    distance_matrix[city][next_city] -\n",
    "                    distance_matrix[prev_city][next_city]\n",
    "                )\n",
    "                if increase < min_increase:\n",
    "                    min_increase = increase\n",
    "                    best_city = city\n",
    "                    best_position = i\n",
    "\n",
    "        tour.insert(best_position, best_city)\n",
    "        unvisited.remove(best_city)\n",
    "\n",
    "    return tour[:-1]"
   ],
   "id": "d35a9aa6bba7d731",
   "outputs": [],
   "execution_count": 8
  },
  {
   "metadata": {
    "ExecuteTime": {
     "end_time": "2025-08-31T19:41:04.044912Z",
     "start_time": "2025-08-31T19:41:04.038688Z"
    }
   },
   "cell_type": "code",
   "source": [
    "tour = insertion_tour(distance_matrix, start=0)\n",
    "print(tour)"
   ],
   "id": "e1d50e2f79f9aed6",
   "outputs": [
    {
     "name": "stdout",
     "output_type": "stream",
     "text": [
      "[0, 6, 19, 12, 8, 14, 18, 13, 1, 11, 10, 9, 3, 4, 16, 5, 15, 2, 17, 7]\n"
     ]
    }
   ],
   "execution_count": 9
  },
  {
   "metadata": {},
   "cell_type": "markdown",
   "source": "**Two-Opt**",
   "id": "588d0d21c69d35a8"
  },
  {
   "metadata": {
    "ExecuteTime": {
     "end_time": "2025-08-31T19:41:04.097858Z",
     "start_time": "2025-08-31T19:41:04.093075Z"
    }
   },
   "cell_type": "code",
   "source": [
    "def two_opt(tour: list, distance_matrix: np.ndarray) -> list:\n",
    "    \"\"\"\n",
    "    Improve a given TSP tour using the two-opt heuristic.\n",
    "\n",
    "    Parameters:\n",
    "    - tour (list): Initial tour as a list of city indices.\n",
    "    - distance_matrix (np.ndarray): Pairwise distance matrix.\n",
    "\n",
    "    Returns:\n",
    "    - list: Locally optimized tour using two-opt.\n",
    "    \"\"\"\n",
    "    improved = True\n",
    "    n = len(tour)\n",
    "    best = tour[:]\n",
    "\n",
    "    def tour_length(t):\n",
    "        return sum(distance_matrix[t[i]][t[(i + 1) % n]] for i in range(n))\n",
    "\n",
    "    while improved:\n",
    "        improved = False\n",
    "        for i in range(1, n - 2):\n",
    "            for j in range(i + 1, n):\n",
    "                if j - i == 1:\n",
    "                    continue\n",
    "                new_tour = best[:i] + best[i:j][::-1] + best[j:]\n",
    "                if tour_length(new_tour) < tour_length(best):\n",
    "                    best = new_tour\n",
    "                    improved = True\n",
    "                    break\n",
    "            if improved:\n",
    "                break\n",
    "\n",
    "    return best"
   ],
   "id": "48a0ad4a5e8d5fd4",
   "outputs": [],
   "execution_count": 10
  },
  {
   "metadata": {
    "ExecuteTime": {
     "end_time": "2025-08-31T19:41:04.138987Z",
     "start_time": "2025-08-31T19:41:04.127723Z"
    }
   },
   "cell_type": "code",
   "source": [
    "initial_tour = nearest_neighbor_tour(distance_matrix, start=0)\n",
    "print(initial_tour)\n",
    "optimized_tour = two_opt(initial_tour, distance_matrix)\n",
    "print(optimized_tour)"
   ],
   "id": "1e6ed1dca3e5af67",
   "outputs": [
    {
     "name": "stdout",
     "output_type": "stream",
     "text": [
      "[0, 7, 17, 2, 15, 5, 16, 12, 19, 10, 11, 13, 1, 9, 4, 3, 6, 8, 14, 18]\n",
      "[0, 7, 17, 2, 15, 5, 4, 9, 3, 1, 13, 11, 10, 19, 12, 16, 6, 8, 14, 18]\n"
     ]
    }
   ],
   "execution_count": 11
  },
  {
   "metadata": {
    "ExecuteTime": {
     "end_time": "2025-08-31T19:41:04.192909Z",
     "start_time": "2025-08-31T19:41:04.182811Z"
    }
   },
   "cell_type": "code",
   "source": [
    "initial_tour = insertion_tour(distance_matrix, start=0)\n",
    "print(initial_tour)\n",
    "optimized_tour = two_opt(initial_tour, distance_matrix)\n",
    "print(optimized_tour)"
   ],
   "id": "984da351f0aaa4ae",
   "outputs": [
    {
     "name": "stdout",
     "output_type": "stream",
     "text": [
      "[0, 6, 19, 12, 8, 14, 18, 13, 1, 11, 10, 9, 3, 4, 16, 5, 15, 2, 17, 7]\n",
      "[0, 6, 12, 19, 8, 14, 18, 13, 1, 11, 10, 9, 3, 4, 5, 16, 15, 2, 17, 7]\n"
     ]
    }
   ],
   "execution_count": 12
  },
  {
   "metadata": {},
   "cell_type": "markdown",
   "source": "**Simulated Annealing**",
   "id": "b0331b3ccfd32674"
  },
  {
   "metadata": {
    "ExecuteTime": {
     "end_time": "2025-08-31T19:41:04.241821Z",
     "start_time": "2025-08-31T19:41:04.234996Z"
    }
   },
   "cell_type": "code",
   "source": [
    "def simulated_annealing(\n",
    "    initial_tour: list,\n",
    "    distance_matrix: np.ndarray,\n",
    "    initial_temp: float = 1000,\n",
    "    final_temp: float = 1,\n",
    "    alpha: float = 0.995,\n",
    "    max_iter: int = 10000\n",
    ") -> list:\n",
    "    \"\"\"\n",
    "    Apply simulated annealing to improve a TSP tour.\n",
    "\n",
    "    Parameters:\n",
    "    - initial_tour (list): Starting tour.\n",
    "    - distance_matrix (np.ndarray): Pairwise distance matrix.\n",
    "    - initial_temp (float): Initial temperature.\n",
    "    - final_temp (float): Final temperature to stop.\n",
    "    - alpha (float): Cooling rate.\n",
    "    - max_iter (int): Maximum number of iterations.\n",
    "\n",
    "    Returns:\n",
    "    - list: Final optimized tour.\n",
    "    \"\"\"\n",
    "    def tour_cost(tour):\n",
    "        return sum(distance_matrix[tour[i]][tour[(i + 1) % len(tour)]] for i in range(len(tour)))\n",
    "\n",
    "    def swap_two(tour):\n",
    "        i, j = sorted(random.sample(range(len(tour)), 2))\n",
    "        return tour[:i] + tour[i:j+1][::-1] + tour[j+1:]\n",
    "\n",
    "    current = initial_tour[:]\n",
    "    current_cost = tour_cost(current)\n",
    "    best = current[:]\n",
    "    best_cost = current_cost\n",
    "    temp = initial_temp\n",
    "\n",
    "    for _ in range(max_iter):\n",
    "        if temp <= final_temp:\n",
    "            break\n",
    "\n",
    "        candidate = swap_two(current)\n",
    "        candidate_cost = tour_cost(candidate)\n",
    "        delta = candidate_cost - current_cost\n",
    "\n",
    "        if delta < 0 or random.random() < math.exp(-delta / temp):\n",
    "            current = candidate\n",
    "            current_cost = candidate_cost\n",
    "            if candidate_cost < best_cost:\n",
    "                best = candidate\n",
    "                best_cost = candidate_cost\n",
    "\n",
    "        temp *= alpha\n",
    "\n",
    "    return best"
   ],
   "id": "b113d94f510480a5",
   "outputs": [],
   "execution_count": 13
  },
  {
   "metadata": {
    "ExecuteTime": {
     "end_time": "2025-08-31T19:41:04.288635Z",
     "start_time": "2025-08-31T19:41:04.267401Z"
    }
   },
   "cell_type": "code",
   "source": [
    "start_tour = nearest_neighbor_tour(distance_matrix, start=0)\n",
    "print(start_tour)\n",
    "final_tour = simulated_annealing(start_tour, distance_matrix)\n",
    "print(final_tour)"
   ],
   "id": "c6daa86bbb7b2d84",
   "outputs": [
    {
     "name": "stdout",
     "output_type": "stream",
     "text": [
      "[0, 7, 17, 2, 15, 5, 16, 12, 19, 10, 11, 13, 1, 9, 4, 3, 6, 8, 14, 18]\n",
      "[13, 11, 10, 16, 6, 12, 19, 18, 14, 8, 0, 7, 17, 2, 15, 5, 4, 9, 3, 1]\n"
     ]
    }
   ],
   "execution_count": 14
  },
  {
   "metadata": {
    "ExecuteTime": {
     "end_time": "2025-08-31T19:41:04.347114Z",
     "start_time": "2025-08-31T19:41:04.327936Z"
    }
   },
   "cell_type": "code",
   "source": [
    "start_tour = insertion_tour(distance_matrix, start=0)\n",
    "print(start_tour)\n",
    "final_tour = simulated_annealing(start_tour, distance_matrix)\n",
    "print(final_tour)"
   ],
   "id": "8ef7cd66e2e79765",
   "outputs": [
    {
     "name": "stdout",
     "output_type": "stream",
     "text": [
      "[0, 6, 19, 12, 8, 14, 18, 13, 1, 11, 10, 9, 3, 4, 16, 5, 15, 2, 17, 7]\n",
      "[5, 4, 3, 9, 10, 11, 1, 13, 18, 14, 8, 0, 7, 17, 2, 15, 6, 19, 12, 16]\n"
     ]
    }
   ],
   "execution_count": 15
  },
  {
   "metadata": {},
   "cell_type": "markdown",
   "source": "### **Visualization**",
   "id": "ee359ac247158c1a"
  },
  {
   "metadata": {},
   "cell_type": "markdown",
   "source": "**Single Tour**",
   "id": "374febc545cdfe6b"
  },
  {
   "metadata": {
    "ExecuteTime": {
     "end_time": "2025-08-31T19:41:04.391291Z",
     "start_time": "2025-08-31T19:41:04.383433Z"
    }
   },
   "cell_type": "code",
   "source": [
    "def plot_tour(\n",
    "    cities: np.ndarray,\n",
    "    tour: list,\n",
    "    title: str = \"TSP Tour\",\n",
    "    show_lengths: bool = False\n",
    "):\n",
    "    \"\"\"\n",
    "    Display a single TSP tour with optional edge lengths.\n",
    "\n",
    "    Parameters:\n",
    "    - cities (np.ndarray): City coordinates.\n",
    "    - tour (list): Ordered list of city indices forming the tour.\n",
    "    - title (str): Plot title.\n",
    "    - show_lengths (bool): If True, display segment distances on the plot.\n",
    "    \"\"\"\n",
    "    x = [cities[i][0] for i in tour] + [cities[tour[0]][0]]\n",
    "    y = [cities[i][1] for i in tour] + [cities[tour[0]][1]]\n",
    "\n",
    "    plt.figure(figsize=(8, 6))\n",
    "    plt.plot(x, y, marker='o')\n",
    "    plt.scatter(cities[:, 0], cities[:, 1], s=200, color='red', zorder=4)\n",
    "\n",
    "    for idx, (xi, yi) in enumerate(cities):\n",
    "        plt.text(xi, yi, str(idx), fontsize=8, weight='bold', ha='center', va='center', color='black', zorder=5)\n",
    "\n",
    "    if show_lengths:\n",
    "        for i in range(len(tour)):\n",
    "            a, b = tour[i], tour[(i + 1) % len(tour)]\n",
    "            xa, ya = cities[a]\n",
    "            xb, yb = cities[b]\n",
    "            mid_x, mid_y = (xa + xb) / 2, (ya + yb) / 2\n",
    "            dist = math.hypot(xa - xb, ya - yb)\n",
    "            plt.text(\n",
    "                mid_x, mid_y, f\"{dist:.1f}\", fontsize=7, color='black',\n",
    "                bbox=dict(facecolor='white', edgecolor='none', boxstyle='round,pad=0.2')\n",
    "            )\n",
    "\n",
    "    plt.title(title)\n",
    "    plt.axis(\"equal\")\n",
    "    plt.grid(True)\n",
    "    plt.show()"
   ],
   "id": "dbcc73e7b2f7e69c",
   "outputs": [],
   "execution_count": 16
  },
  {
   "metadata": {
    "ExecuteTime": {
     "end_time": "2025-08-31T19:41:04.626875Z",
     "start_time": "2025-08-31T19:41:04.413122Z"
    }
   },
   "cell_type": "code",
   "source": [
    "tour = two_opt(simulated_annealing(nearest_neighbor_tour(distance_matrix, start=0), distance_matrix), distance_matrix)\n",
    "plot_tour(cities, tour, title=\"Optimized and Locally Improved Nearest Neighbor Tour\", show_lengths=True)"
   ],
   "id": "25009cbc92387abf",
   "outputs": [
    {
     "data": {
      "text/plain": [
       "<Figure size 800x600 with 1 Axes>"
      ],
      "image/png": "[encoded data removed]"
     },
     "metadata": {},
     "output_type": "display_data"
    }
   ],
   "execution_count": 17
  },
  {
   "metadata": {},
   "cell_type": "markdown",
   "source": "**Multiple Tours**",
   "id": "88071e707693a9a"
  },
  {
   "metadata": {
    "ExecuteTime": {
     "end_time": "2025-08-31T19:41:04.657662Z",
     "start_time": "2025-08-31T19:41:04.651807Z"
    }
   },
   "cell_type": "code",
   "source": [
    "def plot_multiple_tours(\n",
    "    cities: np.ndarray,\n",
    "    tours: list,\n",
    "    labels: list = None,\n",
    "    title: str = \"Multiple TSP Tours\"\n",
    "):\n",
    "    \"\"\"\n",
    "    Display multiple TSP tours on the same city map for comparison.\n",
    "\n",
    "    Parameters:\n",
    "    - cities (np.ndarray): City coordinates.\n",
    "    - tours (list of list): List of tours to plot.\n",
    "    - labels (list of str): Optional labels for the legend.\n",
    "    - title (str): Plot title.\n",
    "    \"\"\"\n",
    "    if len(tours) > 3:\n",
    "        print(\"⚠️ Warning: plotting more than 3 tours may reduce readability.\")\n",
    "\n",
    "    plt.figure(figsize=(8, 6))\n",
    "\n",
    "    colors = [\n",
    "        'blue', 'orange', 'green', 'purple', 'brown',\n",
    "        'pink', 'gray', 'olive', 'cyan', 'red'\n",
    "    ]\n",
    "    linestyles = ['-', '--', ':', '-.']\n",
    "\n",
    "    for idx, tour in enumerate(tours):\n",
    "        x = [cities[i][0] for i in tour] + [cities[tour[0]][0]]\n",
    "        y = [cities[i][1] for i in tour] + [cities[tour[0]][1]]\n",
    "        color = colors[idx % len(colors)]\n",
    "        style = linestyles[idx % len(linestyles)]\n",
    "        label = labels[idx] if labels and idx < len(labels) else f\"Tour {idx+1}\"\n",
    "        plt.plot(x, y, linestyle=style, color=color, marker='o', label=label)\n",
    "\n",
    "    plt.scatter(cities[:, 0], cities[:, 1], color='black', zorder=5)\n",
    "    for idx, (xi, yi) in enumerate(cities):\n",
    "        plt.text(xi + 5, yi + 5, str(idx), fontsize=8)\n",
    "\n",
    "    plt.title(title)\n",
    "    plt.axis(\"equal\")\n",
    "    plt.grid(True)\n",
    "    plt.legend()\n",
    "    plt.show()"
   ],
   "id": "aa293c6313f00528",
   "outputs": [],
   "execution_count": 18
  },
  {
   "metadata": {
    "ExecuteTime": {
     "end_time": "2025-08-31T19:41:04.851841Z",
     "start_time": "2025-08-31T19:41:04.693295Z"
    }
   },
   "cell_type": "code",
   "source": [
    "tour = insertion_tour(distance_matrix)\n",
    "tours = [\n",
    "    tour,\n",
    "    two_opt(tour, distance_matrix),\n",
    "    simulated_annealing(tour, distance_matrix)\n",
    "]\n",
    "\n",
    "plot_multiple_tours(\n",
    "    cities,\n",
    "    tours,\n",
    "    labels=[\"Insertion\", \"Insertion -> Two_Opt\", \"Insertion -> Simulated Annealing\"],\n",
    "    title=\"Comparison of TSP Tours\"\n",
    ")"
   ],
   "id": "c5b9fb243394c4f1",
   "outputs": [
    {
     "data": {
      "text/plain": [
       "<Figure size 800x600 with 1 Axes>"
      ],
      "image/png": "[encoded data removed]"
     },
     "metadata": {},
     "output_type": "display_data"
    }
   ],
   "execution_count": 19
  },
  {
   "metadata": {},
   "cell_type": "markdown",
   "source": "### **Comparisons**",
   "id": "22609ed5deb6a2a3"
  },
  {
   "metadata": {},
   "cell_type": "markdown",
   "source": "**Execution Time**",
   "id": "e8861c96f2aba280"
  },
  {
   "metadata": {
    "ExecuteTime": {
     "end_time": "2025-08-31T19:41:04.877078Z",
     "start_time": "2025-08-31T19:41:04.872986Z"
    }
   },
   "cell_type": "code",
   "source": [
    "import time\n",
    "\n",
    "def measure_time(func, *args, **kwargs):\n",
    "    \"\"\"\n",
    "    Measure the execution time of a function call.\n",
    "\n",
    "    Parameters:\n",
    "    - func: Function to execute.\n",
    "    - *args, **kwargs: Arguments to pass to the function.\n",
    "\n",
    "    Returns:\n",
    "    - tuple: (result of the function, execution time in seconds)\n",
    "    \"\"\"\n",
    "    start = time.time()\n",
    "    result = func(*args, **kwargs)\n",
    "    end = time.time()\n",
    "    elapsed = end - start\n",
    "    return result, elapsed"
   ],
   "id": "3fd38da0544cf39b",
   "outputs": [],
   "execution_count": 20
  },
  {
   "metadata": {
    "ExecuteTime": {
     "end_time": "2025-08-31T19:41:04.901627Z",
     "start_time": "2025-08-31T19:41:04.896472Z"
    }
   },
   "cell_type": "code",
   "source": [
    "tour, exec_time = measure_time(nearest_neighbor_tour, distance_matrix)\n",
    "print(f\"Function: nearest_neighbor_tour\\n\"\n",
    "      f\"Execution time: {exec_time:.6f} seconds\")"
   ],
   "id": "13a8a2f2188dea99",
   "outputs": [
    {
     "name": "stdout",
     "output_type": "stream",
     "text": [
      "Function: nearest_neighbor_tour\n",
      "Execution time: 0.000096 seconds\n"
     ]
    }
   ],
   "execution_count": 21
  },
  {
   "metadata": {},
   "cell_type": "markdown",
   "source": "**Tour Cost**",
   "id": "462ca553238d5225"
  },
  {
   "metadata": {
    "ExecuteTime": {
     "end_time": "2025-08-31T19:41:04.947447Z",
     "start_time": "2025-08-31T19:41:04.942200Z"
    }
   },
   "cell_type": "code",
   "source": [
    "def compute_tour_cost(tour: list, distance_matrix: np.ndarray) -> float:\n",
    "    \"\"\"\n",
    "    Compute the total distance of a TSP tour.\n",
    "\n",
    "    Parameters:\n",
    "    - tour (list): Ordered list of city indices forming the tour.\n",
    "    - distance_matrix (np.ndarray): Pairwise distance matrix.\n",
    "\n",
    "    Returns:\n",
    "    - float: Total cost of the tour.\n",
    "    \"\"\"\n",
    "    return sum(\n",
    "        distance_matrix[tour[i]][tour[(i + 1) % len(tour)]]\n",
    "        for i in range(len(tour))\n",
    "    )"
   ],
   "id": "c5bd92ecbbb8db69",
   "outputs": [],
   "execution_count": 22
  },
  {
   "metadata": {
    "ExecuteTime": {
     "end_time": "2025-08-31T19:41:04.996742Z",
     "start_time": "2025-08-31T19:41:04.974007Z"
    }
   },
   "cell_type": "code",
   "source": [
    "tour = two_opt(simulated_annealing(insertion_tour(distance_matrix), distance_matrix), distance_matrix)\n",
    "cost = compute_tour_cost(tour, distance_matrix)\n",
    "print(f\"Tour cost: {cost:.2f}\")"
   ],
   "id": "2afebd130c65be45",
   "outputs": [
    {
     "name": "stdout",
     "output_type": "stream",
     "text": [
      "Tour cost: 3965.38\n"
     ]
    }
   ],
   "execution_count": 23
  },
  {
   "metadata": {},
   "cell_type": "markdown",
   "source": "**Comparison DataFrame**",
   "id": "f900a8fc0e62bd2d"
  },
  {
   "metadata": {
    "ExecuteTime": {
     "end_time": "2025-08-31T19:41:05.718653Z",
     "start_time": "2025-08-31T19:41:05.034597Z"
    }
   },
   "cell_type": "code",
   "source": [
    "import pandas as pd\n",
    "\n",
    "default_sizes = [10, 25, 50, 75]\n",
    "def create_comparison_df(sizes : list = default_sizes, sample_size : int = 10) -> pd.DataFrame:\n",
    "    \"\"\"\n",
    "    Create tour cost and time comparison DataFrame for different combinations of heuristics.\n",
    "\n",
    "    Parameters:\n",
    "    - sizes (list): Optional list of sizes of city datasets.\n",
    "    - sample_size (int): Number of different city datasets to generate.\n",
    "\n",
    "    Returns:\n",
    "    - pd.DataFrame: Comparison DataFrame.\n",
    "    \"\"\"\n",
    "    results = []\n",
    "    for size in sizes:\n",
    "        for run in range(sample_size):\n",
    "            cities = generate_cities(size, seed=run)\n",
    "            distance_matrix = compute_distance_matrix(cities)\n",
    "\n",
    "            for heuristic_name, heuristic_function in [\n",
    "                ('nearest_neighbor', nearest_neighbor_tour),\n",
    "                ('insertion', insertion_tour),\n",
    "            ]:\n",
    "                base_tour, first_duration = measure_time(heuristic_function, distance_matrix, start=0)\n",
    "\n",
    "                for use_two_opt in [False, True]:\n",
    "                    for use_simulated_annealing in [False, True]:\n",
    "                        tour = base_tour[:]\n",
    "                        duration = first_duration\n",
    "\n",
    "                        if use_two_opt:\n",
    "                            tour, added_duration = measure_time(two_opt, tour, distance_matrix)\n",
    "                            duration += added_duration\n",
    "                        if use_simulated_annealing:\n",
    "                            tour, added_duration = measure_time(simulated_annealing, tour, distance_matrix)\n",
    "                            duration += added_duration\n",
    "\n",
    "                        cost = compute_tour_cost(tour, distance_matrix)\n",
    "\n",
    "                        results.append({\n",
    "                            \"size\": size,\n",
    "                            \"run_id\": run,\n",
    "                            \"heuristic\": heuristic_name,\n",
    "                            \"two_opt\": use_two_opt,\n",
    "                            \"simulated_annealing\": use_simulated_annealing,\n",
    "                            \"cost\": cost,\n",
    "                            \"time\": duration,\n",
    "                        })\n",
    "\n",
    "    return pd.DataFrame(results)"
   ],
   "id": "9e66ec6c143f35c6",
   "outputs": [],
   "execution_count": 24
  },
  {
   "metadata": {
    "ExecuteTime": {
     "end_time": "2025-08-31T19:41:50.775059Z",
     "start_time": "2025-08-31T19:41:05.736594Z"
    }
   },
   "cell_type": "code",
   "source": [
    "df = create_comparison_df()\n",
    "df"
   ],
   "id": "a4c28935169d68b0",
   "outputs": [
    {
     "data": {
      "text/plain": [
       "     size  run_id         heuristic  two_opt  simulated_annealing  \\\n",
       "0      10       0  nearest_neighbor    False                False   \n",
       "1      10       0  nearest_neighbor    False                 True   \n",
       "2      10       0  nearest_neighbor     True                False   \n",
       "3      10       0  nearest_neighbor     True                 True   \n",
       "4      10       0         insertion    False                False   \n",
       "..    ...     ...               ...      ...                  ...   \n",
       "315    75       9  nearest_neighbor     True                 True   \n",
       "316    75       9         insertion    False                False   \n",
       "317    75       9         insertion    False                 True   \n",
       "318    75       9         insertion     True                False   \n",
       "319    75       9         insertion     True                 True   \n",
       "\n",
       "            cost      time  \n",
       "0    2848.073287  0.000040  \n",
       "1    2513.217277  0.010521  \n",
       "2    2700.607901  0.000404  \n",
       "3    2513.217277  0.010604  \n",
       "4    2681.899719  0.000137  \n",
       "..           ...       ...  \n",
       "315  7584.664901  0.635509  \n",
       "316  8000.229942  0.035352  \n",
       "317  8000.229942  0.061676  \n",
       "318  7503.845405  0.436835  \n",
       "319  7503.845405  0.452533  \n",
       "\n",
       "[320 rows x 7 columns]"
      ],
      "text/html": [
       "<div>\n",
       "<style scoped>\n",
       "    .dataframe tbody tr th:only-of-type {\n",
       "        vertical-align: middle;\n",
       "    }\n",
       "\n",
       "    .dataframe tbody tr th {\n",
       "        vertical-align: top;\n",
       "    }\n",
       "\n",
       "    .dataframe thead th {\n",
       "        text-align: right;\n",
       "    }\n",
       "</style>\n",
       "<table border=\"1\" class=\"dataframe\">\n",
       "  <thead>\n",
       "    <tr style=\"text-align: right;\">\n",
       "      <th></th>\n",
       "      <th>size</th>\n",
       "      <th>run_id</th>\n",
       "      <th>heuristic</th>\n",
       "      <th>two_opt</th>\n",
       "      <th>simulated_annealing</th>\n",
       "      <th>cost</th>\n",
       "      <th>time</th>\n",
       "    </tr>\n",
       "  </thead>\n",
       "  <tbody>\n",
       "    <tr>\n",
       "      <th>0</th>\n",
       "      <td>10</td>\n",
       "      <td>0</td>\n",
       "      <td>nearest_neighbor</td>\n",
       "      <td>False</td>\n",
       "      <td>False</td>\n",
       "      <td>2848.073287</td>\n",
       "      <td>0.000040</td>\n",
       "    </tr>\n",
       "    <tr>\n",
       "      <th>1</th>\n",
       "      <td>10</td>\n",
       "      <td>0</td>\n",
       "      <td>nearest_neighbor</td>\n",
       "      <td>False</td>\n",
       "      <td>True</td>\n",
       "      <td>2513.217277</td>\n",
       "      <td>0.010521</td>\n",
       "    </tr>\n",
       "    <tr>\n",
       "      <th>2</th>\n",
       "      <td>10</td>\n",
       "      <td>0</td>\n",
       "      <td>nearest_neighbor</td>\n",
       "      <td>True</td>\n",
       "      <td>False</td>\n",
       "      <td>2700.607901</td>\n",
       "      <td>0.000404</td>\n",
       "    </tr>\n",
       "    <tr>\n",
       "      <th>3</th>\n",
       "      <td>10</td>\n",
       "      <td>0</td>\n",
       "      <td>nearest_neighbor</td>\n",
       "      <td>True</td>\n",
       "      <td>True</td>\n",
       "      <td>2513.217277</td>\n",
       "      <td>0.010604</td>\n",
       "    </tr>\n",
       "    <tr>\n",
       "      <th>4</th>\n",
       "      <td>10</td>\n",
       "      <td>0</td>\n",
       "      <td>insertion</td>\n",
       "      <td>False</td>\n",
       "      <td>False</td>\n",
       "      <td>2681.899719</td>\n",
       "      <td>0.000137</td>\n",
       "    </tr>\n",
       "    <tr>\n",
       "      <th>...</th>\n",
       "      <td>...</td>\n",
       "      <td>...</td>\n",
       "      <td>...</td>\n",
       "      <td>...</td>\n",
       "      <td>...</td>\n",
       "      <td>...</td>\n",
       "      <td>...</td>\n",
       "    </tr>\n",
       "    <tr>\n",
       "      <th>315</th>\n",
       "      <td>75</td>\n",
       "      <td>9</td>\n",
       "      <td>nearest_neighbor</td>\n",
       "      <td>True</td>\n",
       "      <td>True</td>\n",
       "      <td>7584.664901</td>\n",
       "      <td>0.635509</td>\n",
       "    </tr>\n",
       "    <tr>\n",
       "      <th>316</th>\n",
       "      <td>75</td>\n",
       "      <td>9</td>\n",
       "      <td>insertion</td>\n",
       "      <td>False</td>\n",
       "      <td>False</td>\n",
       "      <td>8000.229942</td>\n",
       "      <td>0.035352</td>\n",
       "    </tr>\n",
       "    <tr>\n",
       "      <th>317</th>\n",
       "      <td>75</td>\n",
       "      <td>9</td>\n",
       "      <td>insertion</td>\n",
       "      <td>False</td>\n",
       "      <td>True</td>\n",
       "      <td>8000.229942</td>\n",
       "      <td>0.061676</td>\n",
       "    </tr>\n",
       "    <tr>\n",
       "      <th>318</th>\n",
       "      <td>75</td>\n",
       "      <td>9</td>\n",
       "      <td>insertion</td>\n",
       "      <td>True</td>\n",
       "      <td>False</td>\n",
       "      <td>7503.845405</td>\n",
       "      <td>0.436835</td>\n",
       "    </tr>\n",
       "    <tr>\n",
       "      <th>319</th>\n",
       "      <td>75</td>\n",
       "      <td>9</td>\n",
       "      <td>insertion</td>\n",
       "      <td>True</td>\n",
       "      <td>True</td>\n",
       "      <td>7503.845405</td>\n",
       "      <td>0.452533</td>\n",
       "    </tr>\n",
       "  </tbody>\n",
       "</table>\n",
       "<p>320 rows × 7 columns</p>\n",
       "</div>"
      ]
     },
     "execution_count": 25,
     "metadata": {},
     "output_type": "execute_result"
    }
   ],
   "execution_count": 25
  }
 ],
 "metadata": {
  "language_info": {
   "name": "python"
  }
 },
 "nbformat": 4,
 "nbformat_minor": 5
}
