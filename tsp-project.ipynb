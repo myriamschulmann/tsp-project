{
 "cells": [
  {
   "cell_type": "markdown",
   "id": "f85b2ea4",
   "metadata": {},
   "source": [
    "# 🧭 Projet - Problème du Voyageur de Commerce (TSP)\n",
    "\n",
    "---\n",
    "\n",
    "Ce projet explore des heuristiques pour résoudre le **Problème du Voyageur de Commerce (Travelling Salesman Problem)**.  \n",
    "Nous allons implémenter et comparer différentes approches pour trouver un circuit de coût minimal visitant chaque ville une seule fois.\n",
    "\n",
    "---\n",
    "\n",
    "👨‍💻 Myriam HADDOUK & Myriam SCHULMANN  \n",
    "🎓 Projet Mathématiques-informatique  \n",
    "📅 Juin 2025  \n"
   ]
  },
  {
   "cell_type": "markdown",
   "id": "037ae26d",
   "metadata": {},
   "source": "**Imports**"
  },
  {
   "cell_type": "code",
   "id": "da9459f8",
   "metadata": {
    "vscode": {
     "languageId": "plaintext"
    },
    "ExecuteTime": {
     "end_time": "2025-06-18T23:47:30.438814Z",
     "start_time": "2025-06-18T23:47:29.419956Z"
    }
   },
   "source": [
    "import numpy as np\n",
    "import matplotlib.pyplot as plt\n",
    "import random\n",
    "import math"
   ],
   "outputs": [],
   "execution_count": 3
  }
 ],
 "metadata": {
  "language_info": {
   "name": "python"
  }
 },
 "nbformat": 4,
 "nbformat_minor": 5
}
