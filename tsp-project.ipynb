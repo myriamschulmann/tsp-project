{
 "cells": [
  {
   "metadata": {},
   "cell_type": "markdown",
   "source": [
    "# 🧭 Projet - Problème du Voyageur de Commerce (TSP)\n",
    "\n",
    "---\n",
    "\n",
    "Ce projet explore des heuristiques pour résoudre le **Problème du Voyageur de Commerce (Travelling Salesman Problem)**.\n",
    "Nous allons implémenter et comparer différentes approches pour trouver un circuit de coût minimal visitant chaque ville une seule fois.\n",
    "\n",
    "---\n",
    "\n",
    "👨‍💻 Myriam HADDOUK & Myriam SCHULMANN\n",
    "🎓 Projet Mathématiques-informatique\n",
    "📅 Juin 2025\n"
   ],
   "id": "9c5fa89818fc7c94"
  },
  {
   "metadata": {},
   "cell_type": "markdown",
   "source": "**Imports**",
   "id": "e96b7575a5d4e3f6"
  },
  {
   "metadata": {},
   "cell_type": "code",
   "outputs": [],
   "execution_count": null,
   "source": [
    "import numpy as np\n",
    "import matplotlib.pyplot as plt\n",
    "import random\n",
    "import math"
   ],
   "id": "798e4d1b9ecb3863"
  },
  {
   "metadata": {},
   "cell_type": "markdown",
   "source": "### **City Generation**",
   "id": "bc32f56b825cd9c3"
  },
  {
   "metadata": {},
   "cell_type": "code",
   "outputs": [],
   "execution_count": null,
   "source": [
    "def generate_cities(n: int, seed: int = None) -> np.ndarray:\n",
    "    \"\"\"\n",
    "    Generate a set of cities with random (x, y) coordinates in a 1000x1000 grid.\n",
    "\n",
    "    Parameters:\n",
    "    - n (int): Number of cities to generate.\n",
    "    - seed (int, optional): Random seed for reproducibility.\n",
    "\n",
    "    Returns:\n",
    "    - np.ndarray: Array of shape (n, 2) with x and y coordinates of each city.\n",
    "    \"\"\"\n",
    "    if seed is not None:\n",
    "        random.seed(seed)\n",
    "        np.random.seed(seed)\n",
    "\n",
    "    return np.random.randint(0, 1000, size=(n, 2))"
   ],
   "id": "3d356912211bec56"
  },
  {
   "metadata": {},
   "cell_type": "code",
   "outputs": [],
   "execution_count": null,
   "source": [
    "cities = generate_cities(20, seed=42)\n",
    "print(cities)"
   ],
   "id": "dd3bad026d998178"
  },
  {
   "metadata": {},
   "cell_type": "markdown",
   "source": "**Distance Matrix**",
   "id": "6ac702a6422bfd59"
  },
  {
   "metadata": {},
   "cell_type": "code",
   "outputs": [],
   "execution_count": null,
   "source": [
    "def compute_distance_matrix(cities: np.ndarray) -> np.ndarray:\n",
    "    \"\"\"\n",
    "    Compute the pairwise Euclidean distance matrix between all cities.\n",
    "\n",
    "    Parameters:\n",
    "    - cities (np.ndarray): Array of shape (n, 2) with x and y coordinates.\n",
    "\n",
    "    Returns:\n",
    "    - np.ndarray: Array of shape (n, n) with distances between each pair of cities.\n",
    "    \"\"\"\n",
    "    n = cities.shape[0]\n",
    "    matrix = np.zeros((n, n))\n",
    "\n",
    "    for i in range(n):\n",
    "        for j in range(n):\n",
    "            if i != j:\n",
    "                dx = cities[i][0] - cities[j][0]\n",
    "                dy = cities[i][1] - cities[j][1]\n",
    "                matrix[i][j] = math.hypot(dx, dy)\n",
    "\n",
    "    return matrix"
   ],
   "id": "1b431b61586a12cf"
  },
  {
   "metadata": {},
   "cell_type": "code",
   "outputs": [],
   "execution_count": null,
   "source": [
    "distance_matrix = compute_distance_matrix(cities)\n",
    "print(distance_matrix)"
   ],
   "id": "26fa0701ecb106eb"
  },
  {
   "metadata": {},
   "cell_type": "markdown",
   "source": "### **Heuristics**",
   "id": "1780113c8f2ba6e7"
  },
  {
   "metadata": {},
   "cell_type": "markdown",
   "source": "**Nearest Neighbor**",
   "id": "4ea5e953d36ce12f"
  },
  {
   "metadata": {
    "ExecuteTime": {
     "end_time": "2025-06-19T20:46:42.705357Z",
     "start_time": "2025-06-19T20:46:42.687062Z"
    }
   },
   "cell_type": "code",
   "source": [
    "def nearest_neighbor_path(distance_matrix: np.ndarray, start: int = 0) -> list:\n",
    "    \"\"\"\n",
    "    Construct a TSP path using the nearest neighbor heuristic.\n",
    "\n",
    "    Parameters:\n",
    "    - distance_matrix (np.ndarray): Pairwise distance matrix.\n",
    "    - start (int): Index of the starting city.\n",
    "\n",
    "    Returns:\n",
    "    - list: Ordered list of city indices representing the path.\n",
    "    \"\"\"\n",
    "    n = distance_matrix.shape[0]\n",
    "    visited = [False] * n\n",
    "    path = [start]\n",
    "    visited[start] = True\n",
    "\n",
    "    current = start\n",
    "    for _ in range(n - 1):\n",
    "        next_city = min(\n",
    "            (i for i in range(n) if not visited[i]),\n",
    "            key=lambda i: distance_matrix[current][i]\n",
    "        )\n",
    "        path.append(next_city)\n",
    "        visited[next_city] = True\n",
    "        current = next_city\n",
    "\n",
    "    return path"
   ],
   "id": "7cbc7f2a51b49734",
   "outputs": [],
   "execution_count": 16
  },
  {
   "metadata": {
    "ExecuteTime": {
     "end_time": "2025-06-19T20:46:43.294264Z",
     "start_time": "2025-06-19T20:46:43.290080Z"
    }
   },
   "cell_type": "code",
   "source": [
    "path = nearest_neighbor_path(distance_matrix, start=0)\n",
    "print(path)"
   ],
   "id": "4a41018ce8a0ef29",
   "outputs": [
    {
     "name": "stdout",
     "output_type": "stream",
     "text": [
      "[0, 7, 17, 2, 15, 5, 16, 12, 19, 10, 11, 13, 1, 9, 4, 3, 6, 8, 14, 18]\n"
     ]
    }
   ],
   "execution_count": 17
  },
  {
   "metadata": {},
   "cell_type": "markdown",
   "source": "**Insertion**",
   "id": "b4b97ad42b5ff002"
  },
  {
   "metadata": {
    "ExecuteTime": {
     "end_time": "2025-06-19T21:12:50.496548Z",
     "start_time": "2025-06-19T21:12:50.485284Z"
    }
   },
   "cell_type": "code",
   "source": [
    "def insertion_path(distance_matrix: np.ndarray, start: int = 0) -> list:\n",
    "    \"\"\"\n",
    "    Build a TSP path using the insertion heuristic (e.g. cheapest insertion).\n",
    "\n",
    "    Parameters:\n",
    "    - distance_matrix (np.ndarray): Pairwise distance matrix.\n",
    "    - start (int): Index of the starting city.\n",
    "\n",
    "    Returns:\n",
    "    - list: Ordered list of city indices representing the path.\n",
    "    \"\"\"\n",
    "    n = distance_matrix.shape[0]\n",
    "    unvisited = set(range(n))\n",
    "    path = [start]\n",
    "    unvisited.remove(start)\n",
    "\n",
    "    nearest = min(unvisited, key=lambda i: distance_matrix[start][i])\n",
    "    path.append(nearest)\n",
    "    unvisited.remove(nearest)\n",
    "\n",
    "    path.append(start)\n",
    "\n",
    "    while unvisited:\n",
    "        best_city = None\n",
    "        best_position = None\n",
    "        min_increase = float('inf')\n",
    "\n",
    "        for city in unvisited:\n",
    "            for i in range(1, len(path)):\n",
    "                prev_city = path[i - 1]\n",
    "                next_city = path[i]\n",
    "                increase = (\n",
    "                    distance_matrix[prev_city][city] +\n",
    "                    distance_matrix[city][next_city] -\n",
    "                    distance_matrix[prev_city][next_city]\n",
    "                )\n",
    "                if increase < min_increase:\n",
    "                    min_increase = increase\n",
    "                    best_city = city\n",
    "                    best_position = i\n",
    "\n",
    "        path.insert(best_position, best_city)\n",
    "        unvisited.remove(best_city)\n",
    "\n",
    "    return path[:-1]"
   ],
   "id": "838a893f556071c8",
   "outputs": [],
   "execution_count": 30
  },
  {
   "metadata": {
    "ExecuteTime": {
     "end_time": "2025-06-19T21:12:53.146260Z",
     "start_time": "2025-06-19T21:12:53.139209Z"
    }
   },
   "cell_type": "code",
   "source": [
    "path = insertion_path(distance_matrix, start=0)\n",
    "print(path)"
   ],
   "id": "3646068ce39242df",
   "outputs": [
    {
     "name": "stdout",
     "output_type": "stream",
     "text": [
      "[0, 6, 19, 12, 8, 14, 18, 13, 1, 11, 10, 9, 3, 4, 16, 5, 15, 2, 17, 7]\n"
     ]
    }
   ],
   "execution_count": 31
  }
 ],
 "metadata": {
  "language_info": {
   "name": "python"
  }
 },
 "nbformat": 4,
 "nbformat_minor": 5
}
