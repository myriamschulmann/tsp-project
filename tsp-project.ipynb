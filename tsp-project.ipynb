{
 "cells": [
  {
   "metadata": {},
   "cell_type": "markdown",
   "source": [
    "# 🧭 Projet - Problème du Voyageur de Commerce (TSP)\n",
    "\n",
    "---\n",
    "\n",
    "Ce projet explore des heuristiques pour résoudre le **Problème du Voyageur de Commerce (Travelling Salesman Problem)**.\n",
    "Nous allons implémenter et comparer différentes approches pour trouver un circuit de coût minimal visitant chaque ville une seule fois.\n",
    "\n",
    "---\n",
    "\n",
    "👨‍💻 Myriam HADDOUK & Myriam SCHULMANN\n",
    "🎓 Projet Mathématiques-informatique\n",
    "📅 Juin 2025\n"
   ],
   "id": "99adabbbaffb1135"
  },
  {
   "metadata": {},
   "cell_type": "markdown",
   "source": "**Imports**",
   "id": "fac342422d794d8d"
  },
  {
   "metadata": {},
   "cell_type": "code",
   "outputs": [],
   "execution_count": null,
   "source": [
    "import numpy as np\n",
    "import matplotlib.pyplot as plt\n",
    "import random\n",
    "import math"
   ],
   "id": "a25cbecb412ed603"
  },
  {
   "metadata": {},
   "cell_type": "markdown",
   "source": "### **City Generation**",
   "id": "af18eead3e63fa83"
  },
  {
   "metadata": {},
   "cell_type": "code",
   "outputs": [],
   "execution_count": null,
   "source": [
    "def generate_cities(n: int, seed: int = None) -> np.ndarray:\n",
    "    \"\"\"\n",
    "    Generate a set of cities with random (x, y) coordinates in a 1000x1000 grid.\n",
    "\n",
    "    Parameters:\n",
    "    - n (int): Number of cities to generate.\n",
    "    - seed (int, optional): Random seed for reproducibility.\n",
    "\n",
    "    Returns:\n",
    "    - np.ndarray: Array of shape (n, 2) with x and y coordinates of each city.\n",
    "    \"\"\"\n",
    "    if seed is not None:\n",
    "        random.seed(seed)\n",
    "        np.random.seed(seed)\n",
    "\n",
    "    return np.random.randint(0, 1000, size=(n, 2))"
   ],
   "id": "4d220eefa740d481"
  },
  {
   "metadata": {},
   "cell_type": "code",
   "outputs": [],
   "execution_count": null,
   "source": [
    "cities = generate_cities(20, seed=42)\n",
    "print(cities)"
   ],
   "id": "1d0b9920dc5b3b03"
  },
  {
   "metadata": {},
   "cell_type": "markdown",
   "source": "**Distance Matrix**",
   "id": "6ffc76b3e55614cf"
  },
  {
   "metadata": {},
   "cell_type": "code",
   "outputs": [],
   "execution_count": null,
   "source": [
    "def compute_distance_matrix(cities: np.ndarray) -> np.ndarray:\n",
    "    \"\"\"\n",
    "    Compute the pairwise Euclidean distance matrix between all cities.\n",
    "\n",
    "    Parameters:\n",
    "    - cities (np.ndarray): Array of shape (n, 2) with x and y coordinates.\n",
    "\n",
    "    Returns:\n",
    "    - np.ndarray: Array of shape (n, n) with distances between each pair of cities.\n",
    "    \"\"\"\n",
    "    n = cities.shape[0]\n",
    "    matrix = np.zeros((n, n))\n",
    "\n",
    "    for i in range(n):\n",
    "        for j in range(n):\n",
    "            if i != j:\n",
    "                dx = cities[i][0] - cities[j][0]\n",
    "                dy = cities[i][1] - cities[j][1]\n",
    "                matrix[i][j] = math.hypot(dx, dy)\n",
    "\n",
    "    return matrix"
   ],
   "id": "7ad4547652035c88"
  },
  {
   "metadata": {},
   "cell_type": "code",
   "outputs": [],
   "execution_count": null,
   "source": [
    "distance_matrix = compute_distance_matrix(cities)\n",
    "print(distance_matrix)"
   ],
   "id": "74fb042b68aa40f4"
  },
  {
   "metadata": {},
   "cell_type": "markdown",
   "source": "### **Heuristics**",
   "id": "cbe546e803451c3d"
  },
  {
   "metadata": {},
   "cell_type": "markdown",
   "source": "**Nearest Neighbor**",
   "id": "ccfc88393ae6fdc"
  },
  {
   "metadata": {},
   "cell_type": "code",
   "outputs": [],
   "execution_count": null,
   "source": [
    "def nearest_neighbor_tour(distance_matrix: np.ndarray, start: int = 0) -> list:\n",
    "    \"\"\"\n",
    "    Construct a TSP tour using the nearest neighbor heuristic.\n",
    "\n",
    "    Parameters:\n",
    "    - distance_matrix (np.ndarray): Pairwise distance matrix.\n",
    "    - start (int): Index of the starting city.\n",
    "\n",
    "    Returns:\n",
    "    - list: Ordered list of city indices representing the tour.\n",
    "    \"\"\"\n",
    "    n = distance_matrix.shape[0]\n",
    "    visited = [False] * n\n",
    "    tour = [start]\n",
    "    visited[start] = True\n",
    "\n",
    "    current = start\n",
    "    for _ in range(n - 1):\n",
    "        next_city = min(\n",
    "            (i for i in range(n) if not visited[i]),\n",
    "            key=lambda i: distance_matrix[current][i]\n",
    "        )\n",
    "        tour.append(next_city)\n",
    "        visited[next_city] = True\n",
    "        current = next_city\n",
    "\n",
    "    return tour"
   ],
   "id": "b336d55a11331edf"
  },
  {
   "metadata": {},
   "cell_type": "code",
   "outputs": [],
   "execution_count": null,
   "source": [
    "tour = nearest_neighbor_tour(distance_matrix, start=0)\n",
    "print(tour)"
   ],
   "id": "b428be0f92e4212b"
  },
  {
   "metadata": {},
   "cell_type": "markdown",
   "source": "**Insertion**",
   "id": "99da3e60ac11179e"
  },
  {
   "metadata": {},
   "cell_type": "code",
   "outputs": [],
   "execution_count": null,
   "source": [
    "def insertion_tour(distance_matrix: np.ndarray, start: int = 0) -> list:\n",
    "    \"\"\"\n",
    "    Build a TSP tour using the insertion heuristic (e.g. cheapest insertion).\n",
    "\n",
    "    Parameters:\n",
    "    - distance_matrix (np.ndarray): Pairwise distance matrix.\n",
    "    - start (int): Index of the starting city.\n",
    "\n",
    "    Returns:\n",
    "    - list: Ordered list of city indices representing the tour.\n",
    "    \"\"\"\n",
    "    n = distance_matrix.shape[0]\n",
    "    unvisited = set(range(n))\n",
    "    tour = [start]\n",
    "    unvisited.remove(start)\n",
    "\n",
    "    nearest = min(unvisited, key=lambda i: distance_matrix[start][i])\n",
    "    tour.append(nearest)\n",
    "    unvisited.remove(nearest)\n",
    "\n",
    "    tour.append(start)\n",
    "\n",
    "    while unvisited:\n",
    "        best_city = None\n",
    "        best_position = None\n",
    "        min_increase = float('inf')\n",
    "\n",
    "        for city in unvisited:\n",
    "            for i in range(1, len(tour)):\n",
    "                prev_city = tour[i - 1]\n",
    "                next_city = tour[i]\n",
    "                increase = (\n",
    "                    distance_matrix[prev_city][city] +\n",
    "                    distance_matrix[city][next_city] -\n",
    "                    distance_matrix[prev_city][next_city]\n",
    "                )\n",
    "                if increase < min_increase:\n",
    "                    min_increase = increase\n",
    "                    best_city = city\n",
    "                    best_position = i\n",
    "\n",
    "        tour.insert(best_position, best_city)\n",
    "        unvisited.remove(best_city)\n",
    "\n",
    "    return tour[:-1]"
   ],
   "id": "d35a9aa6bba7d731"
  },
  {
   "metadata": {},
   "cell_type": "code",
   "outputs": [],
   "execution_count": null,
   "source": [
    "tour = insertion_tour(distance_matrix, start=0)\n",
    "print(tour)"
   ],
   "id": "e1d50e2f79f9aed6"
  },
  {
   "metadata": {},
   "cell_type": "markdown",
   "source": "**Two-Opt**",
   "id": "588d0d21c69d35a8"
  },
  {
   "metadata": {},
   "cell_type": "code",
   "outputs": [],
   "execution_count": null,
   "source": [
    "def two_opt(tour: list, distance_matrix: np.ndarray) -> list:\n",
    "    \"\"\"\n",
    "    Improve a given TSP tour using the two-opt heuristic.\n",
    "\n",
    "    Parameters:\n",
    "    - tour (list): Initial tour as a list of city indices.\n",
    "    - distance_matrix (np.ndarray): Pairwise distance matrix.\n",
    "\n",
    "    Returns:\n",
    "    - list: Locally optimized tour using two-opt.\n",
    "    \"\"\"\n",
    "    improved = True\n",
    "    n = len(tour)\n",
    "    best = tour[:]\n",
    "\n",
    "    def tour_length(t):\n",
    "        return sum(distance_matrix[t[i]][t[(i + 1) % n]] for i in range(n))\n",
    "\n",
    "    while improved:\n",
    "        improved = False\n",
    "        for i in range(1, n - 2):\n",
    "            for j in range(i + 1, n):\n",
    "                if j - i == 1:\n",
    "                    continue\n",
    "                new_tour = best[:i] + best[i:j][::-1] + best[j:]\n",
    "                if tour_length(new_tour) < tour_length(best):\n",
    "                    best = new_tour\n",
    "                    improved = True\n",
    "                    break\n",
    "            if improved:\n",
    "                break\n",
    "\n",
    "    return best"
   ],
   "id": "48a0ad4a5e8d5fd4"
  },
  {
   "metadata": {},
   "cell_type": "code",
   "outputs": [],
   "execution_count": null,
   "source": [
    "initial_tour = nearest_neighbor_tour(distance_matrix, start=0)\n",
    "print(initial_tour)\n",
    "optimized_tour = two_opt(initial_tour, distance_matrix)\n",
    "print(optimized_tour)"
   ],
   "id": "1e6ed1dca3e5af67"
  },
  {
   "metadata": {},
   "cell_type": "code",
   "outputs": [],
   "execution_count": null,
   "source": [
    "initial_tour = insertion_tour(distance_matrix, start=0)\n",
    "print(initial_tour)\n",
    "optimized_tour = two_opt(initial_tour, distance_matrix)\n",
    "print(optimized_tour)"
   ],
   "id": "984da351f0aaa4ae"
  },
  {
   "metadata": {},
   "cell_type": "markdown",
   "source": "**Simulated Annealing**b",
   "id": "b0331b3ccfd32674"
  },
  {
   "metadata": {
    "ExecuteTime": {
     "end_time": "2025-06-19T21:48:09.115400Z",
     "start_time": "2025-06-19T21:48:09.103738Z"
    }
   },
   "cell_type": "code",
   "source": [
    "def simulated_annealing(\n",
    "    initial_tour: list,\n",
    "    distance_matrix: np.ndarray,\n",
    "    initial_temp: float = 1000,\n",
    "    final_temp: float = 1,\n",
    "    alpha: float = 0.995,\n",
    "    max_iter: int = 10000\n",
    ") -> list:\n",
    "    \"\"\"\n",
    "    Apply simulated annealing to improve a TSP tour.\n",
    "\n",
    "    Parameters:\n",
    "    - initial_tour (list): Starting tour (e.g. from nearest neighbor).\n",
    "    - distance_matrix (np.ndarray): Pairwise distance matrix.\n",
    "    - initial_temp (float): Initial temperature.\n",
    "    - final_temp (float): Final temperature to stop.\n",
    "    - alpha (float): Cooling rate.\n",
    "    - max_iter (int): Maximum number of iterations.\n",
    "\n",
    "    Returns:\n",
    "    - list: Final optimized tour.\n",
    "    \"\"\"\n",
    "    def tour_cost(tour):\n",
    "        return sum(distance_matrix[tour[i]][tour[(i + 1) % len(tour)]] for i in range(len(tour)))\n",
    "\n",
    "    def swap_two(tour):\n",
    "        i, j = sorted(random.sample(range(len(tour)), 2))\n",
    "        return tour[:i] + tour[i:j+1][::-1] + tour[j+1:]\n",
    "\n",
    "    current = initial_tour[:]\n",
    "    current_cost = tour_cost(current)\n",
    "    best = current[:]\n",
    "    best_cost = current_cost\n",
    "    temp = initial_temp\n",
    "\n",
    "    for _ in range(max_iter):\n",
    "        if temp <= final_temp:\n",
    "            break\n",
    "\n",
    "        candidate = swap_two(current)\n",
    "        candidate_cost = tour_cost(candidate)\n",
    "        delta = candidate_cost - current_cost\n",
    "\n",
    "        if delta < 0 or random.random() < math.exp(-delta / temp):\n",
    "            current = candidate\n",
    "            current_cost = candidate_cost\n",
    "            if candidate_cost < best_cost:\n",
    "                best = candidate\n",
    "                best_cost = candidate_cost\n",
    "\n",
    "        temp *= alpha\n",
    "\n",
    "    return best"
   ],
   "id": "b113d94f510480a5",
   "outputs": [],
   "execution_count": 49
  },
  {
   "metadata": {
    "ExecuteTime": {
     "end_time": "2025-06-19T21:49:13.313337Z",
     "start_time": "2025-06-19T21:49:13.293641Z"
    }
   },
   "cell_type": "code",
   "source": [
    "start_tour = nearest_neighbor_tour(distance_matrix, start=0)\n",
    "print(start_tour)\n",
    "final_tour = simulated_annealing(start_tour, distance_matrix)\n",
    "print(final_tour)"
   ],
   "id": "c6daa86bbb7b2d84",
   "outputs": [
    {
     "name": "stdout",
     "output_type": "stream",
     "text": [
      "[0, 7, 17, 2, 15, 5, 16, 12, 19, 10, 11, 13, 1, 9, 4, 3, 6, 8, 14, 18]\n",
      "[1, 13, 19, 18, 14, 8, 6, 12, 16, 0, 7, 17, 2, 15, 5, 4, 3, 9, 10, 11]\n"
     ]
    }
   ],
   "execution_count": 56
  },
  {
   "metadata": {
    "ExecuteTime": {
     "end_time": "2025-06-19T22:01:33.040452Z",
     "start_time": "2025-06-19T22:01:33.019066Z"
    }
   },
   "cell_type": "code",
   "source": [
    "start_tour = insertion_tour(distance_matrix, start=0)\n",
    "print(start_tour)\n",
    "final_tour = simulated_annealing(start_tour, distance_matrix)\n",
    "print(final_tour)"
   ],
   "id": "8ef7cd66e2e79765",
   "outputs": [
    {
     "name": "stdout",
     "output_type": "stream",
     "text": [
      "[0, 6, 19, 12, 8, 14, 18, 13, 1, 11, 10, 9, 3, 4, 16, 5, 15, 2, 17, 7]\n",
      "[4, 9, 3, 1, 13, 11, 10, 19, 18, 14, 8, 0, 7, 17, 2, 15, 6, 12, 16, 5]\n"
     ]
    }
   ],
   "execution_count": 58
  }
 ],
 "metadata": {
  "language_info": {
   "name": "python"
  }
 },
 "nbformat": 4,
 "nbformat_minor": 5
}
