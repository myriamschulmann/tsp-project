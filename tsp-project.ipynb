{
 "cells": [
  {
   "metadata": {},
   "cell_type": "markdown",
   "source": [
    "# 🧭 Projet - Problème du Voyageur de Commerce (TSP)\n",
    "\n",
    "---\n",
    "\n",
    "Ce projet explore des heuristiques pour résoudre le **Problème du Voyageur de Commerce (Travelling Salesman Problem)**.\n",
    "Nous allons implémenter et comparer différentes approches pour trouver un circuit de coût minimal visitant chaque ville une seule fois.\n",
    "\n",
    "---\n",
    "\n",
    "👨‍💻 Myriam HADDOUK & Myriam SCHULMANN\n",
    "🎓 Projet Mathématiques-informatique\n",
    "📅 Juin 2025\n"
   ],
   "id": "9c5fa89818fc7c94"
  },
  {
   "metadata": {},
   "cell_type": "markdown",
   "source": "**Imports**",
   "id": "e96b7575a5d4e3f6"
  },
  {
   "metadata": {},
   "cell_type": "code",
   "outputs": [],
   "execution_count": null,
   "source": [
    "import numpy as np\n",
    "import matplotlib.pyplot as plt\n",
    "import random\n",
    "import math"
   ],
   "id": "798e4d1b9ecb3863"
  },
  {
   "metadata": {},
   "cell_type": "markdown",
   "source": "### **City Generation**",
   "id": "bc32f56b825cd9c3"
  },
  {
   "metadata": {},
   "cell_type": "code",
   "outputs": [],
   "execution_count": null,
   "source": [
    "def generate_cities(n: int, seed: int = None) -> np.ndarray:\n",
    "    \"\"\"\n",
    "    Generate a set of cities with random (x, y) coordinates in a 1000x1000 grid.\n",
    "\n",
    "    Parameters:\n",
    "    - n (int): Number of cities to generate.\n",
    "    - seed (int, optional): Random seed for reproducibility.\n",
    "\n",
    "    Returns:\n",
    "    - np.ndarray: Array of shape (n, 2) with x and y coordinates of each city.\n",
    "    \"\"\"\n",
    "    if seed is not None:\n",
    "        random.seed(seed)\n",
    "        np.random.seed(seed)\n",
    "\n",
    "    return np.random.randint(0, 1000, size=(n, 2))"
   ],
   "id": "3d356912211bec56"
  },
  {
   "metadata": {},
   "cell_type": "code",
   "outputs": [],
   "execution_count": null,
   "source": [
    "cities = generate_cities(20, seed=42)\n",
    "print(cities)"
   ],
   "id": "dd3bad026d998178"
  },
  {
   "metadata": {},
   "cell_type": "markdown",
   "source": "**Distance Matrix**",
   "id": "6ac702a6422bfd59"
  },
  {
   "metadata": {},
   "cell_type": "code",
   "outputs": [],
   "execution_count": null,
   "source": [
    "def compute_distance_matrix(cities: np.ndarray) -> np.ndarray:\n",
    "    \"\"\"\n",
    "    Compute the pairwise Euclidean distance matrix between all cities.\n",
    "\n",
    "    Parameters:\n",
    "    - cities (np.ndarray): Array of shape (n, 2) with x and y coordinates.\n",
    "\n",
    "    Returns:\n",
    "    - np.ndarray: Array of shape (n, n) with distances between each pair of cities.\n",
    "    \"\"\"\n",
    "    n = cities.shape[0]\n",
    "    matrix = np.zeros((n, n))\n",
    "\n",
    "    for i in range(n):\n",
    "        for j in range(n):\n",
    "            if i != j:\n",
    "                dx = cities[i][0] - cities[j][0]\n",
    "                dy = cities[i][1] - cities[j][1]\n",
    "                matrix[i][j] = math.hypot(dx, dy)\n",
    "\n",
    "    return matrix"
   ],
   "id": "1b431b61586a12cf"
  },
  {
   "metadata": {},
   "cell_type": "code",
   "outputs": [],
   "execution_count": null,
   "source": [
    "distance_matrix = compute_distance_matrix(cities)\n",
    "print(distance_matrix)"
   ],
   "id": "26fa0701ecb106eb"
  }
 ],
 "metadata": {
  "language_info": {
   "name": "python"
  }
 },
 "nbformat": 4,
 "nbformat_minor": 5
}
